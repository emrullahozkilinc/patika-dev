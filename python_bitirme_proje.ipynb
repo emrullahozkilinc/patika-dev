{
  "nbformat": 4,
  "nbformat_minor": 0,
  "metadata": {
    "colab": {
      "name": "python_bitirme_proje.ipynb",
      "provenance": [],
      "authorship_tag": "ABX9TyPI0w5ADGe5zM7OQ3xKVPDW",
      "include_colab_link": true
    },
    "kernelspec": {
      "name": "python3",
      "display_name": "Python 3"
    },
    "language_info": {
      "name": "python"
    }
  },
  "cells": [
    {
      "cell_type": "markdown",
      "metadata": {
        "id": "view-in-github",
        "colab_type": "text"
      },
      "source": [
        "<a href=\"https://colab.research.google.com/github/emrullahozkilinc/patika-dev/blob/main/python_bitirme_proje.ipynb\" target=\"_parent\"><img src=\"https://colab.research.google.com/assets/colab-badge.svg\" alt=\"Open In Colab\"/></a>"
      ]
    },
    {
      "cell_type": "code",
      "metadata": {
        "colab": {
          "base_uri": "https://localhost:8080/"
        },
        "id": "9ZjqTIGkmPmE",
        "outputId": "98d4f5cb-892e-4e79-b20c-bd13c92ba3cd"
      },
      "source": [
        "list = [[1,'a',['cat'],2],[[[3]],'dog'],4,5]\n",
        "\n",
        "list.count(1)"
      ],
      "execution_count": 3,
      "outputs": [
        {
          "output_type": "execute_result",
          "data": {
            "text/plain": [
              "0"
            ]
          },
          "metadata": {
            "tags": []
          },
          "execution_count": 3
        }
      ]
    }
  ]
}