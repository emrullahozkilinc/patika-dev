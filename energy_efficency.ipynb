{
  "nbformat": 4,
  "nbformat_minor": 0,
  "metadata": {
    "colab": {
      "name": "energy_efficency.ipynb",
      "provenance": [],
      "collapsed_sections": [],
      "history_visible": true,
      "authorship_tag": "ABX9TyM5ovLBmtWX/JAmuq9LQ+O4",
      "include_colab_link": true
    },
    "kernelspec": {
      "name": "python3",
      "display_name": "Python 3"
    },
    "language_info": {
      "name": "python"
    }
  },
  "cells": [
    {
      "cell_type": "markdown",
      "metadata": {
        "id": "view-in-github",
        "colab_type": "text"
      },
      "source": [
        "<a href=\"https://colab.research.google.com/github/emrullahozkilinc/patika-dev/blob/main/energy_efficency.ipynb\" target=\"_parent\"><img src=\"https://colab.research.google.com/assets/colab-badge.svg\" alt=\"Open In Colab\"/></a>"
      ]
    },
    {
      "cell_type": "code",
      "metadata": {
        "id": "22UOkrPxor0D"
      },
      "source": [
        "import pandas as pd\n",
        "import numpy as np\n",
        "import matplotlib.pyplot as plt\n",
        "import seaborn as sns\n",
        "from sklearn.model_selection import train_test_split as splitter\n",
        "from sklearn.model_selection import cross_val_score, RandomizedSearchCV, RepeatedStratifiedKFold\n",
        "from sklearn.tree import DecisionTreeRegressor, DecisionTreeClassifier\n",
        "from sklearn.ensemble import RandomForestRegressor, AdaBoostRegressor\n",
        "from sklearn.datasets import make_classification"
      ],
      "execution_count": 61,
      "outputs": []
    },
    {
      "cell_type": "markdown",
      "metadata": {
        "id": "m_BuzmWZpc6C"
      },
      "source": [
        "**Data Titles:**\n",
        "\n",
        "\n",
        "*   **X1** Relative Compactness\n",
        "*   **X2** Surface Area\n",
        "*   **X3** Wall Area\n",
        "*   **X4** Roof Area\n",
        "*   **X5** Overall Height\n",
        "*   **X6** Orientation\n",
        "*   **X7** Glazing Area\n",
        "*   **X8** Glazing Area Distribution\n",
        "*   **y1** Heating Load\n",
        "*   **y2** Cooling Load"
      ]
    },
    {
      "cell_type": "code",
      "metadata": {
        "id": "CZeWTez5oyWx"
      },
      "source": [
        "data = pd.read_csv('https://raw.githubusercontent.com/emrullahozkilinc/machine-learning/master/dataset/energy_efficency.csv')"
      ],
      "execution_count": 24,
      "outputs": []
    },
    {
      "cell_type": "code",
      "metadata": {
        "colab": {
          "base_uri": "https://localhost:8080/"
        },
        "id": "sdtLONiso9pH",
        "outputId": "9ac71bc6-d632-41ea-ea55-79e61dbab876"
      },
      "source": [
        "data.isna().sum()"
      ],
      "execution_count": 25,
      "outputs": [
        {
          "output_type": "execute_result",
          "data": {
            "text/plain": [
              "X1    0\n",
              "X2    0\n",
              "X3    0\n",
              "X4    0\n",
              "X5    0\n",
              "X6    0\n",
              "X7    0\n",
              "X8    0\n",
              "Y1    0\n",
              "Y2    0\n",
              "dtype: int64"
            ]
          },
          "metadata": {
            "tags": []
          },
          "execution_count": 25
        }
      ]
    },
    {
      "cell_type": "code",
      "metadata": {
        "colab": {
          "base_uri": "https://localhost:8080/",
          "height": 317
        },
        "id": "962cZ8uIqS_H",
        "outputId": "2a7465b1-a058-4f14-b8d6-4b66db3ee7c8"
      },
      "source": [
        "data.describe()"
      ],
      "execution_count": 26,
      "outputs": [
        {
          "output_type": "execute_result",
          "data": {
            "text/html": [
              "<div>\n",
              "<style scoped>\n",
              "    .dataframe tbody tr th:only-of-type {\n",
              "        vertical-align: middle;\n",
              "    }\n",
              "\n",
              "    .dataframe tbody tr th {\n",
              "        vertical-align: top;\n",
              "    }\n",
              "\n",
              "    .dataframe thead th {\n",
              "        text-align: right;\n",
              "    }\n",
              "</style>\n",
              "<table border=\"1\" class=\"dataframe\">\n",
              "  <thead>\n",
              "    <tr style=\"text-align: right;\">\n",
              "      <th></th>\n",
              "      <th>X1</th>\n",
              "      <th>X2</th>\n",
              "      <th>X3</th>\n",
              "      <th>X4</th>\n",
              "      <th>X5</th>\n",
              "      <th>X6</th>\n",
              "      <th>X7</th>\n",
              "      <th>X8</th>\n",
              "      <th>Y1</th>\n",
              "      <th>Y2</th>\n",
              "    </tr>\n",
              "  </thead>\n",
              "  <tbody>\n",
              "    <tr>\n",
              "      <th>count</th>\n",
              "      <td>768.000000</td>\n",
              "      <td>768.000000</td>\n",
              "      <td>768.000000</td>\n",
              "      <td>768.000000</td>\n",
              "      <td>768.00000</td>\n",
              "      <td>768.000000</td>\n",
              "      <td>768.000000</td>\n",
              "      <td>768.00000</td>\n",
              "      <td>768.000000</td>\n",
              "      <td>768.000000</td>\n",
              "    </tr>\n",
              "    <tr>\n",
              "      <th>mean</th>\n",
              "      <td>0.764167</td>\n",
              "      <td>671.708333</td>\n",
              "      <td>318.500000</td>\n",
              "      <td>176.604167</td>\n",
              "      <td>5.25000</td>\n",
              "      <td>3.500000</td>\n",
              "      <td>0.234375</td>\n",
              "      <td>2.81250</td>\n",
              "      <td>22.307201</td>\n",
              "      <td>24.587760</td>\n",
              "    </tr>\n",
              "    <tr>\n",
              "      <th>std</th>\n",
              "      <td>0.105777</td>\n",
              "      <td>88.086116</td>\n",
              "      <td>43.626481</td>\n",
              "      <td>45.165950</td>\n",
              "      <td>1.75114</td>\n",
              "      <td>1.118763</td>\n",
              "      <td>0.133221</td>\n",
              "      <td>1.55096</td>\n",
              "      <td>10.090196</td>\n",
              "      <td>9.513306</td>\n",
              "    </tr>\n",
              "    <tr>\n",
              "      <th>min</th>\n",
              "      <td>0.620000</td>\n",
              "      <td>514.500000</td>\n",
              "      <td>245.000000</td>\n",
              "      <td>110.250000</td>\n",
              "      <td>3.50000</td>\n",
              "      <td>2.000000</td>\n",
              "      <td>0.000000</td>\n",
              "      <td>0.00000</td>\n",
              "      <td>6.010000</td>\n",
              "      <td>10.900000</td>\n",
              "    </tr>\n",
              "    <tr>\n",
              "      <th>25%</th>\n",
              "      <td>0.682500</td>\n",
              "      <td>606.375000</td>\n",
              "      <td>294.000000</td>\n",
              "      <td>140.875000</td>\n",
              "      <td>3.50000</td>\n",
              "      <td>2.750000</td>\n",
              "      <td>0.100000</td>\n",
              "      <td>1.75000</td>\n",
              "      <td>12.992500</td>\n",
              "      <td>15.620000</td>\n",
              "    </tr>\n",
              "    <tr>\n",
              "      <th>50%</th>\n",
              "      <td>0.750000</td>\n",
              "      <td>673.750000</td>\n",
              "      <td>318.500000</td>\n",
              "      <td>183.750000</td>\n",
              "      <td>5.25000</td>\n",
              "      <td>3.500000</td>\n",
              "      <td>0.250000</td>\n",
              "      <td>3.00000</td>\n",
              "      <td>18.950000</td>\n",
              "      <td>22.080000</td>\n",
              "    </tr>\n",
              "    <tr>\n",
              "      <th>75%</th>\n",
              "      <td>0.830000</td>\n",
              "      <td>741.125000</td>\n",
              "      <td>343.000000</td>\n",
              "      <td>220.500000</td>\n",
              "      <td>7.00000</td>\n",
              "      <td>4.250000</td>\n",
              "      <td>0.400000</td>\n",
              "      <td>4.00000</td>\n",
              "      <td>31.667500</td>\n",
              "      <td>33.132500</td>\n",
              "    </tr>\n",
              "    <tr>\n",
              "      <th>max</th>\n",
              "      <td>0.980000</td>\n",
              "      <td>808.500000</td>\n",
              "      <td>416.500000</td>\n",
              "      <td>220.500000</td>\n",
              "      <td>7.00000</td>\n",
              "      <td>5.000000</td>\n",
              "      <td>0.400000</td>\n",
              "      <td>5.00000</td>\n",
              "      <td>43.100000</td>\n",
              "      <td>48.030000</td>\n",
              "    </tr>\n",
              "  </tbody>\n",
              "</table>\n",
              "</div>"
            ],
            "text/plain": [
              "               X1          X2          X3  ...         X8          Y1          Y2\n",
              "count  768.000000  768.000000  768.000000  ...  768.00000  768.000000  768.000000\n",
              "mean     0.764167  671.708333  318.500000  ...    2.81250   22.307201   24.587760\n",
              "std      0.105777   88.086116   43.626481  ...    1.55096   10.090196    9.513306\n",
              "min      0.620000  514.500000  245.000000  ...    0.00000    6.010000   10.900000\n",
              "25%      0.682500  606.375000  294.000000  ...    1.75000   12.992500   15.620000\n",
              "50%      0.750000  673.750000  318.500000  ...    3.00000   18.950000   22.080000\n",
              "75%      0.830000  741.125000  343.000000  ...    4.00000   31.667500   33.132500\n",
              "max      0.980000  808.500000  416.500000  ...    5.00000   43.100000   48.030000\n",
              "\n",
              "[8 rows x 10 columns]"
            ]
          },
          "metadata": {
            "tags": []
          },
          "execution_count": 26
        }
      ]
    },
    {
      "cell_type": "markdown",
      "metadata": {
        "id": "6SeML_cC3avZ"
      },
      "source": [
        "**Relative Compactness**"
      ]
    },
    {
      "cell_type": "code",
      "metadata": {
        "colab": {
          "base_uri": "https://localhost:8080/"
        },
        "id": "qq2kCOoMrU_A",
        "outputId": "2093ae14-8a72-4126-f001-477c31c76398"
      },
      "source": [
        "data['X1'].unique()"
      ],
      "execution_count": 27,
      "outputs": [
        {
          "output_type": "execute_result",
          "data": {
            "text/plain": [
              "array([0.98, 0.9 , 0.86, 0.82, 0.79, 0.76, 0.74, 0.71, 0.69, 0.66, 0.64,\n",
              "       0.62])"
            ]
          },
          "metadata": {
            "tags": []
          },
          "execution_count": 27
        }
      ]
    },
    {
      "cell_type": "code",
      "metadata": {
        "colab": {
          "base_uri": "https://localhost:8080/"
        },
        "id": "KTHfIfIJw21a",
        "outputId": "6a304e5b-ed77-46af-eb8d-014a912c03e0"
      },
      "source": [
        "data.groupby(['X1'], axis=0)['X1'].count()"
      ],
      "execution_count": 28,
      "outputs": [
        {
          "output_type": "execute_result",
          "data": {
            "text/plain": [
              "X1\n",
              "0.62    64\n",
              "0.64    64\n",
              "0.66    64\n",
              "0.69    64\n",
              "0.71    64\n",
              "0.74    64\n",
              "0.76    64\n",
              "0.79    64\n",
              "0.82    64\n",
              "0.86    64\n",
              "0.90    64\n",
              "0.98    64\n",
              "Name: X1, dtype: int64"
            ]
          },
          "metadata": {
            "tags": []
          },
          "execution_count": 28
        }
      ]
    },
    {
      "cell_type": "markdown",
      "metadata": {
        "id": "pN6zs_J33kqC"
      },
      "source": [
        "**Surface Area**"
      ]
    },
    {
      "cell_type": "code",
      "metadata": {
        "colab": {
          "base_uri": "https://localhost:8080/"
        },
        "id": "XIXdNlY50IJH",
        "outputId": "fb82d259-9bc7-41dc-acc9-81cd8d05aeff"
      },
      "source": [
        "for x in data.columns:\n",
        "  print(data[x].nunique())"
      ],
      "execution_count": 29,
      "outputs": [
        {
          "output_type": "stream",
          "text": [
            "12\n",
            "12\n",
            "7\n",
            "4\n",
            "2\n",
            "4\n",
            "4\n",
            "6\n",
            "586\n",
            "636\n"
          ],
          "name": "stdout"
        }
      ]
    },
    {
      "cell_type": "code",
      "metadata": {
        "id": "S--Lpo0C37aJ",
        "colab": {
          "base_uri": "https://localhost:8080/"
        },
        "outputId": "72eb5f46-58b6-47f8-e1a6-54c89f8eba65"
      },
      "source": [
        "for x in data.iloc[:,:8].columns:\n",
        "  print(data[x].unique())"
      ],
      "execution_count": 30,
      "outputs": [
        {
          "output_type": "stream",
          "text": [
            "[0.98 0.9  0.86 0.82 0.79 0.76 0.74 0.71 0.69 0.66 0.64 0.62]\n",
            "[514.5 563.5 588.  612.5 637.  661.5 686.  710.5 735.  759.5 784.  808.5]\n",
            "[294.  318.5 343.  416.5 245.  269.5 367.5]\n",
            "[110.25 122.5  147.   220.5 ]\n",
            "[7.  3.5]\n",
            "[2 3 4 5]\n",
            "[0.   0.1  0.25 0.4 ]\n",
            "[0 1 2 3 4 5]\n"
          ],
          "name": "stdout"
        }
      ]
    },
    {
      "cell_type": "code",
      "metadata": {
        "colab": {
          "base_uri": "https://localhost:8080/",
          "height": 384
        },
        "id": "gXBKJxr_b6HV",
        "outputId": "171be47e-b540-4117-bd98-9e2184a3376f"
      },
      "source": [
        "plt.hist(data['Y1'], bins=15)"
      ],
      "execution_count": 31,
      "outputs": [
        {
          "output_type": "execute_result",
          "data": {
            "text/plain": [
              "(array([ 17.,  46., 144., 122.,  48.,  22.,   6.,  58.,  34.,  71.,  73.,\n",
              "         22.,  45.,  36.,  24.]),\n",
              " array([ 6.01      ,  8.48266667, 10.95533333, 13.428     , 15.90066667,\n",
              "        18.37333333, 20.846     , 23.31866667, 25.79133333, 28.264     ,\n",
              "        30.73666667, 33.20933333, 35.682     , 38.15466667, 40.62733333,\n",
              "        43.1       ]),\n",
              " <a list of 15 Patch objects>)"
            ]
          },
          "metadata": {
            "tags": []
          },
          "execution_count": 31
        },
        {
          "output_type": "display_data",
          "data": {
            "image/png": "[encoded data removed]",
            "text/plain": [
              "<Figure size 432x288 with 1 Axes>"
            ]
          },
          "metadata": {
            "tags": [],
            "needs_background": "light"
          }
        }
      ]
    },
    {
      "cell_type": "code",
      "metadata": {
        "colab": {
          "base_uri": "https://localhost:8080/",
          "height": 384
        },
        "id": "rceF5O6EdlBO",
        "outputId": "b9d50591-5862-4980-ecf1-f942046be36f"
      },
      "source": [
        "plt.hist(data['Y2'], bins=15)"
      ],
      "execution_count": 32,
      "outputs": [
        {
          "output_type": "execute_result",
          "data": {
            "text/plain": [
              "(array([ 26., 184., 112.,  42.,  27.,  21.,  47.,  70.,  50.,  71.,  52.,\n",
              "         31.,  11.,  16.,   8.]),\n",
              " array([10.9       , 13.37533333, 15.85066667, 18.326     , 20.80133333,\n",
              "        23.27666667, 25.752     , 28.22733333, 30.70266667, 33.178     ,\n",
              "        35.65333333, 38.12866667, 40.604     , 43.07933333, 45.55466667,\n",
              "        48.03      ]),\n",
              " <a list of 15 Patch objects>)"
            ]
          },
          "metadata": {
            "tags": []
          },
          "execution_count": 32
        },
        {
          "output_type": "display_data",
          "data": {
            "image/png": "[encoded data removed]",
            "text/plain": [
              "<Figure size 432x288 with 1 Axes>"
            ]
          },
          "metadata": {
            "tags": [],
            "needs_background": "light"
          }
        }
      ]
    },
    {
      "cell_type": "code",
      "metadata": {
        "id": "yWtr7mUbev0n"
      },
      "source": [
        "X_train, X_test, y_train, y_test = splitter(data.iloc[:,:-2], \n",
        "                                            data.iloc[:,8:], \n",
        "                                            test_size = 0.301)\n",
        "X_validation, X_test, y_validation, y_test = splitter(X_test,\n",
        "                                                      y_test,\n",
        "                                                      test_size = 0.5)"
      ],
      "execution_count": 33,
      "outputs": []
    },
    {
      "cell_type": "code",
      "metadata": {
        "colab": {
          "base_uri": "https://localhost:8080/"
        },
        "id": "v0CdJ06CggDJ",
        "outputId": "af6dbced-b8a9-4a5c-ac37-9a6cf65ce2aa"
      },
      "source": [
        "clf_decision_tree = DecisionTreeRegressor()\n",
        "clf_decision_tree.fit(X_train, y_train)\n",
        "clf_decision_tree.score(X_validation, y_validation)"
      ],
      "execution_count": 34,
      "outputs": [
        {
          "output_type": "stream",
          "text": [
            "/usr/local/lib/python3.7/dist-packages/sklearn/base.py:434: FutureWarning: The default value of multioutput (not exposed in score method) will change from 'variance_weighted' to 'uniform_average' in 0.23 to keep consistent with 'metrics.r2_score'. To specify the default value manually and avoid the warning, please either call 'metrics.r2_score' directly or make a custom scorer with 'metrics.make_scorer' (the built-in scorer 'r2' uses multioutput='uniform_average').\n",
            "  \"multioutput='uniform_average').\", FutureWarning)\n"
          ],
          "name": "stderr"
        },
        {
          "output_type": "execute_result",
          "data": {
            "text/plain": [
              "0.9739699383983255"
            ]
          },
          "metadata": {
            "tags": []
          },
          "execution_count": 34
        }
      ]
    },
    {
      "cell_type": "code",
      "metadata": {
        "id": "5JIs-0Vpkcpb"
      },
      "source": [
        "pred_decision_tree = clf_decision_tree.predict(X_test)"
      ],
      "execution_count": 35,
      "outputs": []
    },
    {
      "cell_type": "code",
      "metadata": {
        "colab": {
          "base_uri": "https://localhost:8080/",
          "height": 585
        },
        "id": "H0xT_ZT41Cfq",
        "outputId": "6cc7fe99-2f8b-461b-81b9-cb7201db51f8"
      },
      "source": [
        "plt.figure(figsize=(18,12))\n",
        "plt.scatter(pred_decision_tree[:,0], \n",
        "            pred_decision_tree[:,1], \n",
        "            marker = 'x', \n",
        "            label = 'predicted')\n",
        "plt.scatter(y_test.iloc[:,0], y_test.iloc[:,1], marker='*', label = 'true')\n",
        "plt.legend()"
      ],
      "execution_count": 36,
      "outputs": [
        {
          "output_type": "execute_result",
          "data": {
            "text/plain": [
              "<matplotlib.legend.Legend at 0x7f18b601c410>"
            ]
          },
          "metadata": {
            "tags": []
          },
          "execution_count": 36
        },
        {
          "output_type": "display_data",
          "data": {
            "image/png": "[encoded data removed]",
            "text/plain": [
              "<Figure size 1296x864 with 1 Axes>"
            ]
          },
          "metadata": {
            "tags": [],
            "needs_background": "light"
          }
        }
      ]
    },
    {
      "cell_type": "code",
      "metadata": {
        "id": "adwE485_2N6A"
      },
      "source": [
        "clf_random_forest = RandomForestRegressor(oob_score=True,n_estimators=500)"
      ],
      "execution_count": 37,
      "outputs": []
    },
    {
      "cell_type": "code",
      "metadata": {
        "colab": {
          "base_uri": "https://localhost:8080/"
        },
        "id": "ewDQvPXv57aq",
        "outputId": "537223d2-5fd0-448a-ee69-9ca8e7b8d44e"
      },
      "source": [
        "clf_random_forest.fit(X_train, y_train)\n",
        "train_score = clf_random_forest.score(X_train, y_train)\n",
        "valid_score = clf_random_forest.score(X_validation, y_validation)\n",
        "\n",
        "print('Train Score = ',train_score, 'Validaiton Score = ', valid_score, sep = ' ')"
      ],
      "execution_count": 38,
      "outputs": [
        {
          "output_type": "stream",
          "text": [
            "Train Score =  0.997208540000253 Validaiton Score =  0.9814065794375325\n"
          ],
          "name": "stdout"
        },
        {
          "output_type": "stream",
          "text": [
            "/usr/local/lib/python3.7/dist-packages/sklearn/base.py:434: FutureWarning: The default value of multioutput (not exposed in score method) will change from 'variance_weighted' to 'uniform_average' in 0.23 to keep consistent with 'metrics.r2_score'. To specify the default value manually and avoid the warning, please either call 'metrics.r2_score' directly or make a custom scorer with 'metrics.make_scorer' (the built-in scorer 'r2' uses multioutput='uniform_average').\n",
            "  \"multioutput='uniform_average').\", FutureWarning)\n",
            "/usr/local/lib/python3.7/dist-packages/sklearn/base.py:434: FutureWarning: The default value of multioutput (not exposed in score method) will change from 'variance_weighted' to 'uniform_average' in 0.23 to keep consistent with 'metrics.r2_score'. To specify the default value manually and avoid the warning, please either call 'metrics.r2_score' directly or make a custom scorer with 'metrics.make_scorer' (the built-in scorer 'r2' uses multioutput='uniform_average').\n",
            "  \"multioutput='uniform_average').\", FutureWarning)\n"
          ],
          "name": "stderr"
        }
      ]
    },
    {
      "cell_type": "code",
      "metadata": {
        "id": "87egR0Rt7kv-"
      },
      "source": [
        "n_estimators = [int(x) for x in np.linspace(200, 2000, 10)]\n",
        "max_features = ['auto', 'sqrt']\n",
        "max_depth = [int(x) for x in np.linspace(10, 110, num = 11)]\n",
        "max_depth.append(None)\n",
        "min_samples_split = [2, 3, 5]\n",
        "min_samples_leaf = [1, 2, 4]\n",
        "bootstrap = [True, False]\n",
        "\n",
        "random_grid = {'n_estimators': n_estimators,\n",
        "               'max_features': max_features,\n",
        "               'max_depth': max_depth,\n",
        "               'min_samples_split': min_samples_split,\n",
        "               'min_samples_leaf': min_samples_leaf,\n",
        "               'bootstrap': bootstrap}"
      ],
      "execution_count": 41,
      "outputs": []
    },
    {
      "cell_type": "code",
      "metadata": {
        "colab": {
          "base_uri": "https://localhost:8080/"
        },
        "id": "INLGxaAJ9JvB",
        "outputId": "180475c0-e4b8-4d4f-ee81-575b6d50bf05"
      },
      "source": [
        "rf_random = RandomizedSearchCV(clf_random_forest, \n",
        "                               random_grid, \n",
        "                               n_iter=100, \n",
        "                               cv = 3, \n",
        "                               verbose = 2, \n",
        "                               n_jobs=-1)\n",
        "\n",
        "rf_random.fit(X_train, y_train)"
      ],
      "execution_count": 44,
      "outputs": [
        {
          "output_type": "stream",
          "text": [
            "Fitting 3 folds for each of 100 candidates, totalling 300 fits\n"
          ],
          "name": "stdout"
        },
        {
          "output_type": "stream",
          "text": [
            "[Parallel(n_jobs=-1)]: Using backend LokyBackend with 2 concurrent workers.\n",
            "[Parallel(n_jobs=-1)]: Done  37 tasks      | elapsed:   40.3s\n",
            "[Parallel(n_jobs=-1)]: Done 166 tasks      | elapsed:  2.4min\n",
            "[Parallel(n_jobs=-1)]: Done 300 out of 300 | elapsed:  4.3min finished\n"
          ],
          "name": "stderr"
        },
        {
          "output_type": "execute_result",
          "data": {
            "text/plain": [
              "RandomizedSearchCV(cv=3, error_score=nan,\n",
              "                   estimator=RandomForestRegressor(bootstrap=True,\n",
              "                                                   ccp_alpha=0.0,\n",
              "                                                   criterion='mse',\n",
              "                                                   max_depth=None,\n",
              "                                                   max_features='auto',\n",
              "                                                   max_leaf_nodes=None,\n",
              "                                                   max_samples=None,\n",
              "                                                   min_impurity_decrease=0.0,\n",
              "                                                   min_impurity_split=None,\n",
              "                                                   min_samples_leaf=1,\n",
              "                                                   min_samples_split=2,\n",
              "                                                   min_weight_fraction_leaf=0.0,\n",
              "                                                   n_estimators=500,\n",
              "                                                   n_jobs=None, oob_score=True...\n",
              "                   param_distributions={'bootstrap': [True, False],\n",
              "                                        'max_depth': [10, 20, 30, 40, 50, 60,\n",
              "                                                      70, 80, 90, 100, 110,\n",
              "                                                      None],\n",
              "                                        'max_features': ['auto', 'sqrt'],\n",
              "                                        'min_samples_leaf': [1, 2, 4],\n",
              "                                        'min_samples_split': [2, 3, 5],\n",
              "                                        'n_estimators': [200, 400, 600, 800,\n",
              "                                                         1000, 1200, 1400, 1600,\n",
              "                                                         1800, 2000]},\n",
              "                   pre_dispatch='2*n_jobs', random_state=None, refit=True,\n",
              "                   return_train_score=False, scoring=None, verbose=2)"
            ]
          },
          "metadata": {
            "tags": []
          },
          "execution_count": 44
        }
      ]
    },
    {
      "cell_type": "code",
      "metadata": {
        "colab": {
          "base_uri": "https://localhost:8080/"
        },
        "id": "7gJAoRweAbta",
        "outputId": "f53b23e0-772c-4358-bb2b-f3c82d029312"
      },
      "source": [
        "rf_random.score(X_validation, y_validation)"
      ],
      "execution_count": 48,
      "outputs": [
        {
          "output_type": "stream",
          "text": [
            "/usr/local/lib/python3.7/dist-packages/sklearn/base.py:434: FutureWarning: The default value of multioutput (not exposed in score method) will change from 'variance_weighted' to 'uniform_average' in 0.23 to keep consistent with 'metrics.r2_score'. To specify the default value manually and avoid the warning, please either call 'metrics.r2_score' directly or make a custom scorer with 'metrics.make_scorer' (the built-in scorer 'r2' uses multioutput='uniform_average').\n",
            "  \"multioutput='uniform_average').\", FutureWarning)\n"
          ],
          "name": "stderr"
        },
        {
          "output_type": "execute_result",
          "data": {
            "text/plain": [
              "0.9837538805471687"
            ]
          },
          "metadata": {
            "tags": []
          },
          "execution_count": 48
        }
      ]
    },
    {
      "cell_type": "code",
      "metadata": {
        "id": "swo9Tysg6TXF"
      },
      "source": [
        "predict_random_forest = rf_random.predict(X_test)"
      ],
      "execution_count": 45,
      "outputs": []
    },
    {
      "cell_type": "code",
      "metadata": {
        "colab": {
          "base_uri": "https://localhost:8080/",
          "height": 585
        },
        "id": "k0Oobo-X670j",
        "outputId": "6b9c0c1e-60bf-452f-db67-670ba1ebf4c6"
      },
      "source": [
        "plt.figure(figsize=(18,12))\n",
        "plt.scatter(predict_random_forest[:,0], \n",
        "            predict_random_forest[:,1], \n",
        "            marker = 'x', \n",
        "            label = 'predicted')\n",
        "plt.scatter(y_test.iloc[:,0], y_test.iloc[:,1], marker='*', label = 'true')\n",
        "plt.legend()"
      ],
      "execution_count": 46,
      "outputs": [
        {
          "output_type": "execute_result",
          "data": {
            "text/plain": [
              "<matplotlib.legend.Legend at 0x7f18b1334c50>"
            ]
          },
          "metadata": {
            "tags": []
          },
          "execution_count": 46
        },
        {
          "output_type": "display_data",
          "data": {
            "image/png": "[encoded data removed]",
            "text/plain": [
              "<Figure size 1296x864 with 1 Axes>"
            ]
          },
          "metadata": {
            "tags": [],
            "needs_background": "light"
          }
        }
      ]
    },
    {
      "cell_type": "code",
      "metadata": {
        "id": "IgyUOgjWAtC7"
      },
      "source": [
        "clf_adaboost = AdaBoostRegressor()"
      ],
      "execution_count": 50,
      "outputs": []
    },
    {
      "cell_type": "code",
      "metadata": {
        "id": "Z6nVAgUOLiTz"
      },
      "source": [
        "base_estimator = [DecisionTreeRegressor(max_depth=x) for x in range(1,6)]\n",
        "n_estimators = [int(x) for x in np.linspace(200, 2000, 10)]\n",
        "learning_rate = [0.5, 1.0, 2.0]\n",
        "loss = ['linear', 'square', 'exponential']\n",
        "\n",
        "ada_random_grid = {\n",
        "    'base_estimator':base_estimators,\n",
        "    'n_estimators':n_estimators,\n",
        "    'learning_rate':learning_rate,\n",
        "    'loss':loss\n",
        "}"
      ],
      "execution_count": 66,
      "outputs": []
    },
    {
      "cell_type": "code",
      "metadata": {
        "colab": {
          "base_uri": "https://localhost:8080/"
        },
        "id": "zBWqqevpJcT5",
        "outputId": "a654d08a-cec2-4332-bd88-c17801e82c58"
      },
      "source": [
        "ada_random_0 = RandomizedSearchCV(clf_adaboost, \n",
        "                                ada_random_grid, \n",
        "                                n_iter=50, \n",
        "                                cv = 3, \n",
        "                                verbose = 2, \n",
        "                                n_jobs=-1)\n",
        "\n",
        "ada_random_0.fit(X_train, y_train.iloc[:,0])"
      ],
      "execution_count": 72,
      "outputs": [
        {
          "output_type": "stream",
          "text": [
            "Fitting 3 folds for each of 50 candidates, totalling 150 fits\n"
          ],
          "name": "stdout"
        },
        {
          "output_type": "stream",
          "text": [
            "[Parallel(n_jobs=-1)]: Using backend LokyBackend with 2 concurrent workers.\n",
            "[Parallel(n_jobs=-1)]: Done  37 tasks      | elapsed:   29.4s\n",
            "[Parallel(n_jobs=-1)]: Done 150 out of 150 | elapsed:  1.8min finished\n"
          ],
          "name": "stderr"
        },
        {
          "output_type": "execute_result",
          "data": {
            "text/plain": [
              "RandomizedSearchCV(cv=3, error_score=nan,\n",
              "                   estimator=AdaBoostRegressor(base_estimator=None,\n",
              "                                               learning_rate=1.0, loss='linear',\n",
              "                                               n_estimators=50,\n",
              "                                               random_state=None),\n",
              "                   iid='deprecated', n_iter=50, n_jobs=-1,\n",
              "                   param_distributions={'base_estimator': [DecisionTreeRegressor(ccp_alpha=0.0,\n",
              "                                                                                 criterion='mse',\n",
              "                                                                                 max_depth=1,\n",
              "                                                                                 max_features=None,\n",
              "                                                                                 max_leaf_nodes=None,\n",
              "                                                                                 min_impurity_decr...\n",
              "                                                                                 min_samples_leaf=1,\n",
              "                                                                                 min_samples_split=2,\n",
              "                                                                                 min_weight_fraction_leaf=0.0,\n",
              "                                                                                 presort='deprecated',\n",
              "                                                                                 random_state=None,\n",
              "                                                                                 splitter='best')],\n",
              "                                        'learning_rate': [0.5, 1.0, 2.0],\n",
              "                                        'loss': ['linear', 'square',\n",
              "                                                 'exponential'],\n",
              "                                        'n_estimators': [200, 400, 600, 800,\n",
              "                                                         1000, 1200, 1400, 1600,\n",
              "                                                         1800, 2000]},\n",
              "                   pre_dispatch='2*n_jobs', random_state=None, refit=True,\n",
              "                   return_train_score=False, scoring=None, verbose=2)"
            ]
          },
          "metadata": {
            "tags": []
          },
          "execution_count": 72
        }
      ]
    },
    {
      "cell_type": "code",
      "metadata": {
        "colab": {
          "base_uri": "https://localhost:8080/"
        },
        "id": "34YyQF5SPJXO",
        "outputId": "7e9919b2-54ff-44c4-d435-756f39a4635a"
      },
      "source": [
        "ada_random_0.score(X_validation, y_validation.iloc[:,0])"
      ],
      "execution_count": 78,
      "outputs": [
        {
          "output_type": "execute_result",
          "data": {
            "text/plain": [
              "0.9970668024106293"
            ]
          },
          "metadata": {
            "tags": []
          },
          "execution_count": 78
        }
      ]
    },
    {
      "cell_type": "code",
      "metadata": {
        "colab": {
          "base_uri": "https://localhost:8080/"
        },
        "id": "yxo1Rp7bVso7",
        "outputId": "86d1193d-1c8b-4bf4-dac1-baac5fb12295"
      },
      "source": [
        "ada_random_1 = RandomizedSearchCV(clf_adaboost, ada_random_grid, n_iter=50, \n",
        "                                  cv = 3, verbose = 2, n_jobs=-1)\n",
        "\n",
        "ada_random_1.fit(X_train, y_train.iloc[:,1])"
      ],
      "execution_count": 79,
      "outputs": [
        {
          "output_type": "stream",
          "text": [
            "Fitting 3 folds for each of 50 candidates, totalling 150 fits\n"
          ],
          "name": "stdout"
        },
        {
          "output_type": "stream",
          "text": [
            "[Parallel(n_jobs=-1)]: Using backend LokyBackend with 2 concurrent workers.\n",
            "[Parallel(n_jobs=-1)]: Done  37 tasks      | elapsed:   34.1s\n",
            "[Parallel(n_jobs=-1)]: Done 150 out of 150 | elapsed:  1.8min finished\n"
          ],
          "name": "stderr"
        },
        {
          "output_type": "execute_result",
          "data": {
            "text/plain": [
              "RandomizedSearchCV(cv=3, error_score=nan,\n",
              "                   estimator=AdaBoostRegressor(base_estimator=None,\n",
              "                                               learning_rate=1.0, loss='linear',\n",
              "                                               n_estimators=50,\n",
              "                                               random_state=None),\n",
              "                   iid='deprecated', n_iter=50, n_jobs=-1,\n",
              "                   param_distributions={'base_estimator': [DecisionTreeRegressor(ccp_alpha=0.0,\n",
              "                                                                                 criterion='mse',\n",
              "                                                                                 max_depth=1,\n",
              "                                                                                 max_features=None,\n",
              "                                                                                 max_leaf_nodes=None,\n",
              "                                                                                 min_impurity_decr...\n",
              "                                                                                 min_samples_leaf=1,\n",
              "                                                                                 min_samples_split=2,\n",
              "                                                                                 min_weight_fraction_leaf=0.0,\n",
              "                                                                                 presort='deprecated',\n",
              "                                                                                 random_state=None,\n",
              "                                                                                 splitter='best')],\n",
              "                                        'learning_rate': [0.5, 1.0, 2.0],\n",
              "                                        'loss': ['linear', 'square',\n",
              "                                                 'exponential'],\n",
              "                                        'n_estimators': [200, 400, 600, 800,\n",
              "                                                         1000, 1200, 1400, 1600,\n",
              "                                                         1800, 2000]},\n",
              "                   pre_dispatch='2*n_jobs', random_state=None, refit=True,\n",
              "                   return_train_score=False, scoring=None, verbose=2)"
            ]
          },
          "metadata": {
            "tags": []
          },
          "execution_count": 79
        }
      ]
    },
    {
      "cell_type": "code",
      "metadata": {
        "colab": {
          "base_uri": "https://localhost:8080/"
        },
        "id": "pO3T6543Yp_q",
        "outputId": "c8e5981a-3c77-459f-f524-2f449b211e30"
      },
      "source": [
        "ada_random_1.score(X_validation,y_validation.iloc[:,1])"
      ],
      "execution_count": 83,
      "outputs": [
        {
          "output_type": "execute_result",
          "data": {
            "text/plain": [
              "0.9653207666978443"
            ]
          },
          "metadata": {
            "tags": []
          },
          "execution_count": 83
        }
      ]
    },
    {
      "cell_type": "code",
      "metadata": {
        "colab": {
          "base_uri": "https://localhost:8080/"
        },
        "id": "nSW0BQY-ZPo4",
        "outputId": "21e1a790-7c23-4096-b11e-55fb68b9027a"
      },
      "source": [
        "print('Scores:')\n",
        "print('Decision tree score is: ', round(clf_decision_tree.score(X_test, y_test), 5) )\n",
        "print('Random forests score is: ', round(rf_random.score(X_test, y_test), 5) )\n",
        "print('Adaboost score for Y1 is: ', round(ada_random.score(X_test, y_test.iloc[:,0]), 5) )\n",
        "print('Adaboost score for Y1 is: ', round(ada_random_1.score(X_test, y_test.iloc[:,1]), 5) )"
      ],
      "execution_count": 85,
      "outputs": [
        {
          "output_type": "stream",
          "text": [
            "Scores:\n",
            "Decision tree score is:  0.96078\n",
            "Random forests score is:  0.98063\n",
            "Adaboost score for Y1 is:  0.99774\n",
            "Adaboost score for Y1 is:  0.96036\n"
          ],
          "name": "stdout"
        },
        {
          "output_type": "stream",
          "text": [
            "/usr/local/lib/python3.7/dist-packages/sklearn/base.py:434: FutureWarning: The default value of multioutput (not exposed in score method) will change from 'variance_weighted' to 'uniform_average' in 0.23 to keep consistent with 'metrics.r2_score'. To specify the default value manually and avoid the warning, please either call 'metrics.r2_score' directly or make a custom scorer with 'metrics.make_scorer' (the built-in scorer 'r2' uses multioutput='uniform_average').\n",
            "  \"multioutput='uniform_average').\", FutureWarning)\n",
            "/usr/local/lib/python3.7/dist-packages/sklearn/base.py:434: FutureWarning: The default value of multioutput (not exposed in score method) will change from 'variance_weighted' to 'uniform_average' in 0.23 to keep consistent with 'metrics.r2_score'. To specify the default value manually and avoid the warning, please either call 'metrics.r2_score' directly or make a custom scorer with 'metrics.make_scorer' (the built-in scorer 'r2' uses multioutput='uniform_average').\n",
            "  \"multioutput='uniform_average').\", FutureWarning)\n"
          ],
          "name": "stderr"
        }
      ]
    },
    {
      "cell_type": "code",
      "metadata": {
        "id": "cv3lfOYFdcEF"
      },
      "source": [
        ""
      ],
      "execution_count": null,
      "outputs": []
    }
  ]
}